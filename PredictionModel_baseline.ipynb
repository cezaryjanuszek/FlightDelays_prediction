{
 "cells": [
  {
   "cell_type": "markdown",
   "metadata": {},
   "source": [
    "Author: Cezary Januszek\n",
    "\n",
    "*Created on Saturday, November 11th 2023*\n",
    "# [Swisscom challenge] Flight delays prediction\n",
    "\n",
    "#### Research question: *What is the influence of the different airlines/airports on the flight delays?*\n",
    "\n",
    "The goal of this challenge is to investigate US flight delays and cancellations data from 2015.\n",
    "\n",
    "First some exploratory data analysis is done to try to find some insights from general statistics about the airlines, airports and average flight delays. Second, using this same data the goal consists in creating a flight delay prediction model by implementing a:\n",
    "1) baseline model \n",
    "2) complex model (Neural Network or other Deep Learning method)\n",
    "\n",
    "The second model should have better performance than the baseline due to its increased complexity, which will make it also more difficult to explain its predictions.Therefore, an interpretability framework will be added to the second model to allow explicability of the created predictions."
   ]
  },
  {
   "cell_type": "markdown",
   "metadata": {},
   "source": [
    "# III. Baseline predicton model\n",
    "\n",
    "In this notebook, we build the baseline flight delay prediction model. As mentioned in the previous steps, our delays are defined only by the arrival delays of the flights. Moreover, the arrival delays are probably correlated with the departure delays as the already provide important information about the potential final delay of the flight. Therefore, we will check the correlation between these two delay measures and decide to drop the departure delay feature based on the outcome, to ensure that we do not provide to our model to much information about the predicted value (arrival delay).\n",
    "\n",
    "To solve our flight prediction problem, a **classification model** will allow passengers to predict if their flight would be delayed or not.\n",
    "\n",
    "The pipeline to build our baseline regression model is as follows:\n",
    "1. Data pre-processing for feature cleaning and extraction\n",
    "2. Train-test split\n",
    "3. Choosing the model and hyperparameters tuning\n",
    "4.\n",
    "\n",
    "\n",
    "\n",
    "-----------------------------\n",
    "Glossary of *flights_df* feature columns:\n",
    "   - *AIRLINE*: IATA CODE for the airline\n",
    "   - *ORIGIN_AIRPORT and DESTINATION_AIRPORT*: origin and destination airport of the flight\n",
    "   - *SCHEDULED_DEPARTURE and SCHEDULED_ARRIVAL*: scheduled times and date of flight departure and landing\n",
    "   - *DEPARTURE_TIME and ARRIVAL_TIME*: actual real times of flight takeoff and landing\n",
    "   - *DATE_OF_WEEK*: day of week of scheduled flight\n",
    "   - *DEPARTURE_DELAY and ARRIVAL_DELAY*: differences between scheduled and real times of flight departure and arrival\n",
    "   - *DISTANCE*: travel distance between origin and destination airports (in miles)\n",
    "   - *SCHEDULED_TIME*: scheduled travel time between origin and destination airports\n",
    "   - *TAIL_NUMBER*: code to identify a specific plane"
   ]
  },
  {
   "cell_type": "code",
   "execution_count": 60,
   "metadata": {},
   "outputs": [
    {
     "name": "stdout",
     "output_type": "stream",
     "text": [
      "The autoreload extension is already loaded. To reload it, use:\n",
      "  %reload_ext autoreload\n"
     ]
    }
   ],
   "source": [
    "# Imports\n",
    "%load_ext autoreload\n",
    "%autoreload 2\n",
    "\n",
    "from IPython.core.pylabtools import figsize\n",
    "figsize(10, 8)\n",
    "\n",
    "import os\n",
    "import pandas as pd\n",
    "import numpy as np\n",
    "import matplotlib.pyplot as plt\n",
    "import seaborn as sns\n",
    "sns.set_theme()\n",
    "import datetime\n",
    "import plotly.express as px\n",
    "import math\n",
    "from helper_functions import *\n",
    "\n",
    "from sklearn.model_selection import train_test_split, GridSearchCV, cross_val_score\n",
    "from sklearn.preprocessing import StandardScaler, OneHotEncoder\n",
    "\n",
    "from sklearn.tree import DecisionTreeClassifier\n",
    "from sklearn.metrics import log_loss, accuracy_score, precision_score, recall_score, f1_score\n"
   ]
  },
  {
   "cell_type": "code",
   "execution_count": 61,
   "metadata": {},
   "outputs": [],
   "source": [
    "# Load data\n",
    "flights_df = pd.read_pickle(os.path.abspath('./Data/flights.pkl'))\n",
    "airports_df = pd.read_pickle(os.path.abspath('./Data/airports.pkl'))\n",
    "airlines_df = pd.read_csv(os.path.abspath('./Data/airlines.csv'))\n",
    "                          "
   ]
  },
  {
   "cell_type": "code",
   "execution_count": 62,
   "metadata": {},
   "outputs": [],
   "source": [
    "# create label encoding and decoding dictionaries for airports\n",
    "airports_decoding = flights_df.groupby('ORIGIN_AIRPORT')['ARRIVAL_DELAY'].count().sort_values().reset_index()['ORIGIN_AIRPORT'].to_dict()\n",
    "airports_encoding = {v: k for k, v in airports_decoding.items()}"
   ]
  },
  {
   "cell_type": "markdown",
   "metadata": {},
   "source": [
    "### Data pre-processing for classification\n",
    "\n",
    "For the task of classification we need to extract some information from dates and hours to put them in simple numerical values as well as we should encode categorical factors (airline, airport)."
   ]
  },
  {
   "cell_type": "code",
   "execution_count": 63,
   "metadata": {},
   "outputs": [],
   "source": [
    "# extract day, month from dates and hour, minutes from time\n",
    "flights_df['DEPARTURE_DAY'] = flights_df['DATE'].apply(lambda x: x.day)\n",
    "flights_df['DEPARTURE_MONTH'] = flights_df['DATE'].apply(lambda x: x.month)\n",
    "\n",
    "flights_df['ARRIVAL_DAY'] = flights_df['ARRIVAL_DATE'].apply(lambda x: x.day)\n",
    "flights_df['ARRIVAL_MONTH'] = flights_df['ARRIVAL_DATE'].apply(lambda x: x.month)\n",
    "\n",
    "flights_df['SCHEDULED_DEPARTURE_HOUR'] = flights_df['SCHEDULED_DEPARTURE'].apply(lambda x: x.hour)\n",
    "flights_df['SCHEDULED_DEPARTURE_MIN'] = flights_df['SCHEDULED_DEPARTURE'].apply(lambda x: x.minute)\n",
    "\n",
    "flights_df['SCHEDULED_ARRIVAL_HOUR'] = flights_df['SCHEDULED_ARRIVAL'].apply(lambda x: x.hour)\n",
    "flights_df['SCHEDULED_ARRIVAL_MIN'] = flights_df['SCHEDULED_ARRIVAL'].apply(lambda x: x.minute)\n",
    "\n",
    "flights_df = flights_df.drop(['DATE', 'ARRIVAL_DATE', 'SCHEDULED_DEPARTURE', 'SCHEDULED_ARRIVAL'], axis=1)\n",
    "\n",
    "# we also drop DEPARTURE_TIME and DEPARTURE_DELAY as both these features are strongly correlated with our target variable - arrival delay\n",
    "# ARRIVAL_TIME is dropped as well as it indicates almost directly our arrival delay\n",
    "flights_df = flights_df.drop(['DEPARTURE_TIME', 'DEPARTURE_DELAY', 'ARRIVAL_TIME'], axis=1)\n",
    "\n",
    "# TAIL_NUMBER is generally not known to passengers before departure so we drop this column as well\n",
    "flights_df = flights_df.drop('TAIL_NUMBER', axis=1)"
   ]
  },
  {
   "cell_type": "code",
   "execution_count": 64,
   "metadata": {},
   "outputs": [],
   "source": [
    "# encode airlines and airports\n",
    "#flights_df['AIRLINE'] = flights_df['AIRLINE'].map(airlines_encoding)\n",
    "flights_df['ORIGIN_AIRPORT'] = flights_df['ORIGIN_AIRPORT'].map(airports_encoding)\n",
    "flights_df['DESTINATION_AIRPORT'] = flights_df['DESTINATION_AIRPORT'].map(airports_encoding)"
   ]
  },
  {
   "cell_type": "code",
   "execution_count": 65,
   "metadata": {},
   "outputs": [],
   "source": [
    "# clean delay outliers as seen from boxplots in the EDA part - we get rid of all flights that have a delay exceeding 3h\n",
    "#flights_df = flights_df[flights_df['ARRIVAL_DELAY'] < 180]"
   ]
  },
  {
   "cell_type": "code",
   "execution_count": 66,
   "metadata": {},
   "outputs": [],
   "source": [
    "flights_df['FLIGHT_DELAY'] = (flights_df['ARRIVAL_DELAY'] > 0).apply(int)\n",
    "flights_df = flights_df.drop('ARRIVAL_DELAY', axis=1)"
   ]
  },
  {
   "cell_type": "markdown",
   "metadata": {},
   "source": [
    "### Classification model - baseline"
   ]
  },
  {
   "cell_type": "code",
   "execution_count": 67,
   "metadata": {},
   "outputs": [],
   "source": [
    "# separate data into feature matrix X and target variable vector Y\n",
    "X = pd.get_dummies(flights_df.drop('FLIGHT_DELAY', axis=1))\n",
    "Y = flights_df['FLIGHT_DELAY'] "
   ]
  },
  {
   "cell_type": "code",
   "execution_count": 68,
   "metadata": {},
   "outputs": [
    {
     "name": "stdout",
     "output_type": "stream",
     "text": [
      "Train samples:  3999805\n",
      "Test samples:  1714203\n"
     ]
    }
   ],
   "source": [
    "# train-test split with test size of 0.3\n",
    "X_train, X_test, Y_train, Y_test = train_test_split(X, Y, test_size=0.3, random_state=42, stratify=Y)\n",
    "print('Train samples: ', X_train.shape[0])\n",
    "print('Test samples: ', X_test.shape[0])\n",
    "\n",
    "# standardizing training data\n",
    "#scaler = StandardScaler().fit(X_train)\n",
    "#X_train = scaler.transform(X_train)\n",
    "#X_test = scaler.transform(X_test)\n"
   ]
  },
  {
   "cell_type": "code",
   "execution_count": 70,
   "metadata": {},
   "outputs": [
    {
     "name": "stdout",
     "output_type": "stream",
     "text": [
      "R-squared = 0.618\n",
      "Cross-entropy loss = 13.612\n",
      "Accuracy = 0.622\n",
      "Precision = 0.483\n",
      "Recall = 0.480\n",
      "F1-score = 0.482\n"
     ]
    }
   ],
   "source": [
    "# define the model\n",
    "\n",
    "clf_model = DecisionTreeClassifier(class_weight='balanced')\n",
    "clf_model.fit(X_train, Y_train)\n",
    "\n",
    "scores = cross_val_score(clf_model, X_train, Y_train, cv=5)\n",
    "print('R-squared = {:.3f}'.format(scores.mean()))\n",
    "\n",
    "y_pred_proba = clf_model.predict_proba(X_test)\n",
    "loss = log_loss(Y_test, y_pred_proba)\n",
    "y_pred = clf_model.predict(X_test)\n",
    "acc = accuracy_score(Y_test, y_pred)\n",
    "precision = precision_score(Y_test, y_pred)\n",
    "recall = recall_score(Y_test, y_pred)\n",
    "f1 = f1_score(Y_test, y_pred)\n",
    "\n",
    "print('Cross-entropy loss = {:.3f}'.format(loss))\n",
    "print('Accuracy = {:.3f}'.format(acc))\n",
    "print('Precision = {:.3f}'.format(precision))\n",
    "print('Recall = {:.3f}'.format(recall))\n",
    "print('F1-score = {:.3f}'.format(f1))"
   ]
  },
  {
   "cell_type": "code",
   "execution_count": 187,
   "metadata": {},
   "outputs": [
    {
     "data": {
      "image/png": "[encoded data removed]",
      "text/plain": [
       "<Figure size 1000x800 with 1 Axes>"
      ]
     },
     "metadata": {},
     "output_type": "display_data"
    }
   ],
   "source": [
    "plt.figure()\n",
    "plt.hist2d(x=Y_test, y=y_pred, bins=(np.arange(-80, 180, 5), np.arange(-50, 50, 1)), cmin=1, cmap='viridis', norm='log')\n",
    "plt.xlabel('Test set arrival delay')\n",
    "plt.ylabel('Predicted arrival delay')\n",
    "plt.show()"
   ]
  },
  {
   "cell_type": "code",
   "execution_count": null,
   "metadata": {},
   "outputs": [],
   "source": []
  }
 ],
 "metadata": {
  "kernelspec": {
   "display_name": "sp80",
   "language": "python",
   "name": "python3"
  },
  "language_info": {
   "codemirror_mode": {
    "name": "ipython",
    "version": 3
   },
   "file_extension": ".py",
   "mimetype": "text/x-python",
   "name": "python",
   "nbconvert_exporter": "python",
   "pygments_lexer": "ipython3",
   "version": "3.9.12"
  }
 },
 "nbformat": 4,
 "nbformat_minor": 2
}
