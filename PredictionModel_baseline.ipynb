{
 "cells": [
  {
   "cell_type": "markdown",
   "metadata": {},
   "source": [
    "Author: Cezary Januszek\n",
    "\n",
    "*Created on Saturday, November 11th 2023*\n",
    "# [Swisscom challenge] Flight delays prediction\n",
    "\n",
    "#### Research question: *What is the influence of the different airlines/airports on the flight delays?*\n",
    "\n",
    "The goal of this challenge is to investigate US flight delays and cancellations data from 2015.\n",
    "\n",
    "First some exploratory data analysis is done to try to find some insights from general statistics about the airlines, airports and average flight delays. Second, using this same data the goal consists in creating a flight delay prediction model by implementing a:\n",
    "1) baseline model \n",
    "2) complex model (Neural Network or other Deep Learning method)\n",
    "\n",
    "The second model should have better performance than the baseline due to its increased complexity, which will make it also more difficult to explain its predictions.Therefore, an interpretability framework will be added to the second model to allow explicability of the created predictions."
   ]
  },
  {
   "cell_type": "markdown",
   "metadata": {},
   "source": [
    "# III. Baseline predicton model\n",
    "\n",
    "In this notebook, we build the baseline flight delay prediction model. As mentioned in the previous steps, our delays are defined only by the arrival delays of the flights. Moreover, the arrival delays are probably correlated with the departure delays as the already provide important information about the potential final delay of the flight. Therefore, we will check the correlation between these two delay measures and decide to drop the departure delay feature based on the outcome, to ensure that we do not provide to our model to much information about the predicted value (arrival delay).\n",
    "\n",
    "To solve our flight prediction problem, a **classification model** will allow passengers to predict if their flight would be delayed or not.\n",
    "\n",
    "The pipeline to build our baseline regression model is as follows:\n",
    "1. Data pre-processing for feature cleaning and extraction\n",
    "2. Train-test split\n",
    "3. Choosing the model and hyperparameters tuning\n",
    "4.\n",
    "\n",
    "\n",
    "\n",
    "-----------------------------\n",
    "Glossary of *flights_df* feature columns:\n",
    "   - *AIRLINE*: IATA CODE for the airline\n",
    "   - *ORIGIN_AIRPORT and DESTINATION_AIRPORT*: origin and destination airport of the flight\n",
    "   - *SCHEDULED_DEPARTURE and SCHEDULED_ARRIVAL*: scheduled times and date of flight departure and landing\n",
    "   - *DEPARTURE_TIME and ARRIVAL_TIME*: actual real times of flight takeoff and landing\n",
    "   - *DATE_OF_WEEK*: day of week of scheduled flight\n",
    "   - *DEPARTURE_DELAY and ARRIVAL_DELAY*: differences between scheduled and real times of flight departure and arrival\n",
    "   - *DISTANCE*: travel distance between origin and destination airports (in miles)\n",
    "   - *SCHEDULED_TIME*: scheduled travel time between origin and destination airports"
   ]
  },
  {
   "cell_type": "code",
   "execution_count": 97,
   "metadata": {},
   "outputs": [
    {
     "name": "stdout",
     "output_type": "stream",
     "text": [
      "The autoreload extension is already loaded. To reload it, use:\n",
      "  %reload_ext autoreload\n"
     ]
    }
   ],
   "source": [
    "# Imports\n",
    "%load_ext autoreload\n",
    "%autoreload 2\n",
    "\n",
    "from IPython.core.pylabtools import figsize\n",
    "figsize(10, 8)\n",
    "\n",
    "import warnings\n",
    "warnings.filterwarnings(\"ignore\", category=UserWarning)\n",
    "\n",
    "import os\n",
    "import pandas as pd\n",
    "import numpy as np\n",
    "import matplotlib.pyplot as plt\n",
    "import seaborn as sns\n",
    "sns.set_theme()\n",
    "import datetime\n",
    "import math\n",
    "from collections import Counter\n",
    "from helper_functions import *\n",
    "\n",
    "from sklearn.model_selection import train_test_split, GridSearchCV, cross_val_score\n",
    "from sklearn.preprocessing import StandardScaler, PolynomialFeatures, LabelEncoder\n",
    "from sklearn.linear_model import ElasticNetCV\n",
    "from sklearn.metrics import mean_absolute_error, mean_squared_error\n",
    "\n",
    "from sklearn.tree import DecisionTreeClassifier\n",
    "from sklearn.metrics import log_loss, accuracy_score, precision_score, recall_score, f1_score, roc_auc_score\n",
    "\n",
    "from imblearn.over_sampling import SMOTE\n",
    "from imblearn.under_sampling import RandomUnderSampler\n",
    "\n",
    "import lime\n",
    "from lime import lime_tabular\n"
   ]
  },
  {
   "cell_type": "code",
   "execution_count": 98,
   "metadata": {},
   "outputs": [],
   "source": [
    "# Load data\n",
    "flights_df = pd.read_pickle(os.path.abspath('./Data/flights.pkl'))\n",
    "airports_df = pd.read_pickle(os.path.abspath('./Data/airports.pkl'))\n",
    "airlines_df = pd.read_csv(os.path.abspath('./Data/airlines.csv'))\n",
    "                          "
   ]
  },
  {
   "cell_type": "markdown",
   "metadata": {},
   "source": [
    "### Data pre-processing for classification\n",
    "\n",
    "For the task of classification we need to extract some information from dates and hours to put them in simple numerical values as well as we should encode categorical factors (airline, airport)."
   ]
  },
  {
   "cell_type": "code",
   "execution_count": 99,
   "metadata": {},
   "outputs": [],
   "source": [
    "# extract day, month from dates and hour, minutes from time\n",
    "flights_df['DEPARTURE_DAY'] = flights_df['DATE'].apply(lambda x: x.day)\n",
    "flights_df['DEPARTURE_MONTH'] = flights_df['DATE'].apply(lambda x: x.month)\n",
    "\n",
    "flights_df['ARRIVAL_DAY'] = flights_df['ARRIVAL_DATE'].apply(lambda x: x.day)\n",
    "flights_df['ARRIVAL_MONTH'] = flights_df['ARRIVAL_DATE'].apply(lambda x: x.month)\n",
    "\n",
    "flights_df['SCHEDULED_DEPARTURE_HOUR'] = flights_df['SCHEDULED_DEPARTURE'].apply(lambda x: x.hour)\n",
    "flights_df['SCHEDULED_DEPARTURE_MIN'] = flights_df['SCHEDULED_DEPARTURE'].apply(lambda x: x.minute)\n",
    "\n",
    "flights_df['SCHEDULED_ARRIVAL_HOUR'] = flights_df['SCHEDULED_ARRIVAL'].apply(lambda x: x.hour)\n",
    "flights_df['SCHEDULED_ARRIVAL_MIN'] = flights_df['SCHEDULED_ARRIVAL'].apply(lambda x: x.minute)\n",
    "\n",
    "flights_df = flights_df.drop(['DATE', 'ARRIVAL_DATE', 'SCHEDULED_DEPARTURE', 'SCHEDULED_ARRIVAL'], axis=1)\n",
    "\n",
    "# cyclical encoding\n",
    "#flights_df = cyclical_encode(flights_df, 'DEPARTURE_DAY', 31)\n",
    "#flights_df = cyclical_encode(flights_df, 'DEPARTURE_MONTH', 12)\n",
    "#flights_df = cyclical_encode(flights_df, 'ARRIVAL_DAY', 31)\n",
    "#flights_df = cyclical_encode(flights_df, 'ARRIVAL_MONTH', 12)\n",
    "\n",
    "#flights_df = cyclical_encode(flights_df, 'SCHEDULED_DEPARTURE_HOUR', 24)\n",
    "#flights_df = cyclical_encode(flights_df, 'SCHEDULED_DEPARTURE_MIN', 60)\n",
    "#flights_df = cyclical_encode(flights_df, 'SCHEDULED_ARRIVAL_HOUR', 24)\n",
    "#flights_df = cyclical_encode(flights_df, 'SCHEDULED_ARRIVAL_MIN', 60)\n",
    "\n",
    "#flights_df = flights_df.drop(['DEPARTURE_DAY', 'DEPARTURE_MONTH', 'ARRIVAL_DAY', 'ARRIVAL_MONTH',\n",
    "#                             'SCHEDULED_DEPARTURE_HOUR', 'SCHEDULED_DEPARTURE_MIN', 'SCHEDULED_ARRIVAL_HOUR', 'SCHEDULED_ARRIVAL_MIN'], axis=1)"
   ]
  },
  {
   "cell_type": "code",
   "execution_count": 100,
   "metadata": {},
   "outputs": [],
   "source": [
    "# Add mean route-airline departure delay\n",
    "mean_route_delays = flights_df.groupby(['ORIGIN_AIRPORT', 'DESTINATION_AIRPORT', 'AIRLINE'])['DEPARTURE_DELAY'].mean()\n",
    "mean_route_delays.name = 'MEAN_ROUTE_DELAY'\n",
    "flights_df = flights_df.merge(mean_route_delays, left_on=['ORIGIN_AIRPORT', 'DESTINATION_AIRPORT', 'AIRLINE'], right_index=True)"
   ]
  },
  {
   "cell_type": "code",
   "execution_count": 101,
   "metadata": {},
   "outputs": [],
   "source": [
    "# Compute the mean taxi-ou time for each origin airport and taxi-out time for each destination airport\n",
    "mean_taxi_out_origin = flights_df.groupby('ORIGIN_AIRPORT')['TAXI_OUT'].mean()\n",
    "mean_taxi_in_destination = flights_df.groupby('DESTINATION_AIRPORT')['TAXI_IN'].mean()\n",
    "mean_taxi = pd.DataFrame(mean_taxi_out_origin).join(mean_taxi_in_destination, how='inner')\n",
    "mean_taxi.columns = ['MEAN_TAXI_OUT_ORIGIN', 'MEAN_TAXI_IN_DESTINATION']\n",
    "\n",
    "flights_df = flights_df.merge(mean_taxi['MEAN_TAXI_OUT_ORIGIN'], left_on='ORIGIN_AIRPORT', right_index=True)\n",
    "flights_df = flights_df.merge(mean_taxi['MEAN_TAXI_IN_DESTINATION'], left_on='DESTINATION_AIRPORT', right_index=True)\n",
    "\n",
    "flights_df = flights_df.drop(['TAXI_IN', 'TAXI_OUT'], axis=1)"
   ]
  },
  {
   "cell_type": "code",
   "execution_count": 102,
   "metadata": {},
   "outputs": [],
   "source": [
    "# we also drop DEPARTURE_TIME and DEPARTURE_DELAY as both these features are strongly correlated with our target variable - arrival delay\n",
    "# ARRIVAL_TIME is dropped as well as it indicates almost directly our arrival delay\n",
    "flights_df = flights_df.drop(['DEPARTURE_TIME', 'ARRIVAL_TIME'], axis=1)"
   ]
  },
  {
   "cell_type": "code",
   "execution_count": 103,
   "metadata": {},
   "outputs": [],
   "source": [
    "# limit the data to only flights between airports in the top 20 with the most flights\n",
    "# limitation is due to the high number of flights\n",
    "top20_airports = flights_df.groupby('ORIGIN_AIRPORT')['ARRIVAL_DELAY'].count().sort_values(ascending=False).head(20).index\n",
    "flights_df = flights_df[flights_df['ORIGIN_AIRPORT'].isin(top20_airports)]\n",
    "flights_df = flights_df[flights_df['DESTINATION_AIRPORT'].isin(top20_airports)].reset_index(drop=True)\n"
   ]
  },
  {
   "cell_type": "code",
   "execution_count": 104,
   "metadata": {},
   "outputs": [],
   "source": [
    "# create label encoding and decoding dictionaries for airports\n",
    "\n",
    "#airports_decoding = flights_df.groupby('ORIGIN_AIRPORT')['ARRIVAL_DELAY'].count().sort_values().reset_index()['ORIGIN_AIRPORT'].to_dict()\n",
    "#airports_encoding = {v: k for k, v in airports_decoding.items()}\n",
    "\n",
    "# encode airlines and airports\n",
    "#flights_df['AIRLINE'] = flights_df['AIRLINE'].map(airlines_encoding)\n",
    "\n",
    "#flights_df['ORIGIN_AIRPORT'] = flights_df['ORIGIN_AIRPORT'].map(airports_encoding)\n",
    "#flights_df['DESTINATION_AIRPORT'] = flights_df['DESTINATION_AIRPORT'].map(airports_encoding)"
   ]
  },
  {
   "cell_type": "code",
   "execution_count": 105,
   "metadata": {},
   "outputs": [
    {
     "data": {
      "text/html": [
       "<div>\n",
       "<style scoped>\n",
       "    .dataframe tbody tr th:only-of-type {\n",
       "        vertical-align: middle;\n",
       "    }\n",
       "\n",
       "    .dataframe tbody tr th {\n",
       "        vertical-align: top;\n",
       "    }\n",
       "\n",
       "    .dataframe thead th {\n",
       "        text-align: right;\n",
       "    }\n",
       "</style>\n",
       "<table border=\"1\" class=\"dataframe\">\n",
       "  <thead>\n",
       "    <tr style=\"text-align: right;\">\n",
       "      <th></th>\n",
       "      <th>DAY_OF_WEEK</th>\n",
       "      <th>AIRLINE</th>\n",
       "      <th>ORIGIN_AIRPORT</th>\n",
       "      <th>DESTINATION_AIRPORT</th>\n",
       "      <th>DEPARTURE_DELAY</th>\n",
       "      <th>SCHEDULED_TIME</th>\n",
       "      <th>DISTANCE</th>\n",
       "      <th>ARRIVAL_DELAY</th>\n",
       "      <th>DEPARTURE_DAY</th>\n",
       "      <th>DEPARTURE_MONTH</th>\n",
       "      <th>ARRIVAL_DAY</th>\n",
       "      <th>ARRIVAL_MONTH</th>\n",
       "      <th>SCHEDULED_DEPARTURE_HOUR</th>\n",
       "      <th>SCHEDULED_DEPARTURE_MIN</th>\n",
       "      <th>SCHEDULED_ARRIVAL_HOUR</th>\n",
       "      <th>SCHEDULED_ARRIVAL_MIN</th>\n",
       "      <th>MEAN_ROUTE_DELAY</th>\n",
       "      <th>MEAN_TAXI_OUT_ORIGIN</th>\n",
       "      <th>MEAN_TAXI_IN_DESTINATION</th>\n",
       "    </tr>\n",
       "  </thead>\n",
       "  <tbody>\n",
       "    <tr>\n",
       "      <th>0</th>\n",
       "      <td>4</td>\n",
       "      <td>Alaska Airlines Inc.</td>\n",
       "      <td>LAX</td>\n",
       "      <td>SEA</td>\n",
       "      <td>-5.0</td>\n",
       "      <td>170.0</td>\n",
       "      <td>954</td>\n",
       "      <td>-9.0</td>\n",
       "      <td>1</td>\n",
       "      <td>1</td>\n",
       "      <td>1</td>\n",
       "      <td>1</td>\n",
       "      <td>6</td>\n",
       "      <td>0</td>\n",
       "      <td>8</td>\n",
       "      <td>50</td>\n",
       "      <td>1.007848</td>\n",
       "      <td>16.889625</td>\n",
       "      <td>8.014261</td>\n",
       "    </tr>\n",
       "    <tr>\n",
       "      <th>1</th>\n",
       "      <td>4</td>\n",
       "      <td>Alaska Airlines Inc.</td>\n",
       "      <td>LAX</td>\n",
       "      <td>SEA</td>\n",
       "      <td>-5.0</td>\n",
       "      <td>170.0</td>\n",
       "      <td>954</td>\n",
       "      <td>-15.0</td>\n",
       "      <td>1</td>\n",
       "      <td>1</td>\n",
       "      <td>1</td>\n",
       "      <td>1</td>\n",
       "      <td>7</td>\n",
       "      <td>0</td>\n",
       "      <td>9</td>\n",
       "      <td>50</td>\n",
       "      <td>1.007848</td>\n",
       "      <td>16.889625</td>\n",
       "      <td>8.014261</td>\n",
       "    </tr>\n",
       "    <tr>\n",
       "      <th>2</th>\n",
       "      <td>4</td>\n",
       "      <td>Alaska Airlines Inc.</td>\n",
       "      <td>LAX</td>\n",
       "      <td>SEA</td>\n",
       "      <td>-1.0</td>\n",
       "      <td>167.0</td>\n",
       "      <td>954</td>\n",
       "      <td>-7.0</td>\n",
       "      <td>1</td>\n",
       "      <td>1</td>\n",
       "      <td>1</td>\n",
       "      <td>1</td>\n",
       "      <td>8</td>\n",
       "      <td>40</td>\n",
       "      <td>11</td>\n",
       "      <td>27</td>\n",
       "      <td>1.007848</td>\n",
       "      <td>16.889625</td>\n",
       "      <td>8.014261</td>\n",
       "    </tr>\n",
       "    <tr>\n",
       "      <th>3</th>\n",
       "      <td>4</td>\n",
       "      <td>Alaska Airlines Inc.</td>\n",
       "      <td>LAX</td>\n",
       "      <td>SEA</td>\n",
       "      <td>-7.0</td>\n",
       "      <td>164.0</td>\n",
       "      <td>954</td>\n",
       "      <td>-18.0</td>\n",
       "      <td>1</td>\n",
       "      <td>1</td>\n",
       "      <td>1</td>\n",
       "      <td>1</td>\n",
       "      <td>10</td>\n",
       "      <td>30</td>\n",
       "      <td>13</td>\n",
       "      <td>14</td>\n",
       "      <td>1.007848</td>\n",
       "      <td>16.889625</td>\n",
       "      <td>8.014261</td>\n",
       "    </tr>\n",
       "    <tr>\n",
       "      <th>4</th>\n",
       "      <td>4</td>\n",
       "      <td>Alaska Airlines Inc.</td>\n",
       "      <td>LAX</td>\n",
       "      <td>SEA</td>\n",
       "      <td>82.0</td>\n",
       "      <td>154.0</td>\n",
       "      <td>954</td>\n",
       "      <td>96.0</td>\n",
       "      <td>1</td>\n",
       "      <td>1</td>\n",
       "      <td>1</td>\n",
       "      <td>1</td>\n",
       "      <td>13</td>\n",
       "      <td>0</td>\n",
       "      <td>15</td>\n",
       "      <td>34</td>\n",
       "      <td>1.007848</td>\n",
       "      <td>16.889625</td>\n",
       "      <td>8.014261</td>\n",
       "    </tr>\n",
       "    <tr>\n",
       "      <th>...</th>\n",
       "      <td>...</td>\n",
       "      <td>...</td>\n",
       "      <td>...</td>\n",
       "      <td>...</td>\n",
       "      <td>...</td>\n",
       "      <td>...</td>\n",
       "      <td>...</td>\n",
       "      <td>...</td>\n",
       "      <td>...</td>\n",
       "      <td>...</td>\n",
       "      <td>...</td>\n",
       "      <td>...</td>\n",
       "      <td>...</td>\n",
       "      <td>...</td>\n",
       "      <td>...</td>\n",
       "      <td>...</td>\n",
       "      <td>...</td>\n",
       "      <td>...</td>\n",
       "      <td>...</td>\n",
       "    </tr>\n",
       "    <tr>\n",
       "      <th>1395659</th>\n",
       "      <td>4</td>\n",
       "      <td>Delta Air Lines Inc.</td>\n",
       "      <td>DTW</td>\n",
       "      <td>LGA</td>\n",
       "      <td>1.0</td>\n",
       "      <td>103.0</td>\n",
       "      <td>502</td>\n",
       "      <td>-8.0</td>\n",
       "      <td>31</td>\n",
       "      <td>12</td>\n",
       "      <td>31</td>\n",
       "      <td>12</td>\n",
       "      <td>15</td>\n",
       "      <td>23</td>\n",
       "      <td>17</td>\n",
       "      <td>6</td>\n",
       "      <td>11.770922</td>\n",
       "      <td>18.069613</td>\n",
       "      <td>8.841586</td>\n",
       "    </tr>\n",
       "    <tr>\n",
       "      <th>1395660</th>\n",
       "      <td>4</td>\n",
       "      <td>Delta Air Lines Inc.</td>\n",
       "      <td>DTW</td>\n",
       "      <td>LGA</td>\n",
       "      <td>29.0</td>\n",
       "      <td>106.0</td>\n",
       "      <td>502</td>\n",
       "      <td>14.0</td>\n",
       "      <td>31</td>\n",
       "      <td>12</td>\n",
       "      <td>31</td>\n",
       "      <td>12</td>\n",
       "      <td>19</td>\n",
       "      <td>40</td>\n",
       "      <td>21</td>\n",
       "      <td>26</td>\n",
       "      <td>11.770922</td>\n",
       "      <td>18.069613</td>\n",
       "      <td>8.841586</td>\n",
       "    </tr>\n",
       "    <tr>\n",
       "      <th>1395661</th>\n",
       "      <td>7</td>\n",
       "      <td>Atlantic Southeast Airlines</td>\n",
       "      <td>DTW</td>\n",
       "      <td>LGA</td>\n",
       "      <td>43.0</td>\n",
       "      <td>103.0</td>\n",
       "      <td>502</td>\n",
       "      <td>61.0</td>\n",
       "      <td>4</td>\n",
       "      <td>1</td>\n",
       "      <td>4</td>\n",
       "      <td>1</td>\n",
       "      <td>21</td>\n",
       "      <td>40</td>\n",
       "      <td>23</td>\n",
       "      <td>23</td>\n",
       "      <td>11.000000</td>\n",
       "      <td>18.069613</td>\n",
       "      <td>8.841586</td>\n",
       "    </tr>\n",
       "    <tr>\n",
       "      <th>1395662</th>\n",
       "      <td>4</td>\n",
       "      <td>Atlantic Southeast Airlines</td>\n",
       "      <td>DTW</td>\n",
       "      <td>LGA</td>\n",
       "      <td>-6.0</td>\n",
       "      <td>109.0</td>\n",
       "      <td>502</td>\n",
       "      <td>-15.0</td>\n",
       "      <td>26</td>\n",
       "      <td>11</td>\n",
       "      <td>26</td>\n",
       "      <td>11</td>\n",
       "      <td>15</td>\n",
       "      <td>40</td>\n",
       "      <td>17</td>\n",
       "      <td>29</td>\n",
       "      <td>11.000000</td>\n",
       "      <td>18.069613</td>\n",
       "      <td>8.841586</td>\n",
       "    </tr>\n",
       "    <tr>\n",
       "      <th>1395663</th>\n",
       "      <td>1</td>\n",
       "      <td>Atlantic Southeast Airlines</td>\n",
       "      <td>DTW</td>\n",
       "      <td>LGA</td>\n",
       "      <td>-4.0</td>\n",
       "      <td>110.0</td>\n",
       "      <td>502</td>\n",
       "      <td>-10.0</td>\n",
       "      <td>30</td>\n",
       "      <td>11</td>\n",
       "      <td>30</td>\n",
       "      <td>11</td>\n",
       "      <td>18</td>\n",
       "      <td>30</td>\n",
       "      <td>20</td>\n",
       "      <td>20</td>\n",
       "      <td>11.000000</td>\n",
       "      <td>18.069613</td>\n",
       "      <td>8.841586</td>\n",
       "    </tr>\n",
       "  </tbody>\n",
       "</table>\n",
       "<p>1395664 rows × 19 columns</p>\n",
       "</div>"
      ],
      "text/plain": [
       "         DAY_OF_WEEK                      AIRLINE ORIGIN_AIRPORT  \\\n",
       "0                  4         Alaska Airlines Inc.            LAX   \n",
       "1                  4         Alaska Airlines Inc.            LAX   \n",
       "2                  4         Alaska Airlines Inc.            LAX   \n",
       "3                  4         Alaska Airlines Inc.            LAX   \n",
       "4                  4         Alaska Airlines Inc.            LAX   \n",
       "...              ...                          ...            ...   \n",
       "1395659            4         Delta Air Lines Inc.            DTW   \n",
       "1395660            4         Delta Air Lines Inc.            DTW   \n",
       "1395661            7  Atlantic Southeast Airlines            DTW   \n",
       "1395662            4  Atlantic Southeast Airlines            DTW   \n",
       "1395663            1  Atlantic Southeast Airlines            DTW   \n",
       "\n",
       "        DESTINATION_AIRPORT  DEPARTURE_DELAY  SCHEDULED_TIME  DISTANCE  \\\n",
       "0                       SEA             -5.0           170.0       954   \n",
       "1                       SEA             -5.0           170.0       954   \n",
       "2                       SEA             -1.0           167.0       954   \n",
       "3                       SEA             -7.0           164.0       954   \n",
       "4                       SEA             82.0           154.0       954   \n",
       "...                     ...              ...             ...       ...   \n",
       "1395659                 LGA              1.0           103.0       502   \n",
       "1395660                 LGA             29.0           106.0       502   \n",
       "1395661                 LGA             43.0           103.0       502   \n",
       "1395662                 LGA             -6.0           109.0       502   \n",
       "1395663                 LGA             -4.0           110.0       502   \n",
       "\n",
       "         ARRIVAL_DELAY  DEPARTURE_DAY  DEPARTURE_MONTH  ARRIVAL_DAY  \\\n",
       "0                 -9.0              1                1            1   \n",
       "1                -15.0              1                1            1   \n",
       "2                 -7.0              1                1            1   \n",
       "3                -18.0              1                1            1   \n",
       "4                 96.0              1                1            1   \n",
       "...                ...            ...              ...          ...   \n",
       "1395659           -8.0             31               12           31   \n",
       "1395660           14.0             31               12           31   \n",
       "1395661           61.0              4                1            4   \n",
       "1395662          -15.0             26               11           26   \n",
       "1395663          -10.0             30               11           30   \n",
       "\n",
       "         ARRIVAL_MONTH  SCHEDULED_DEPARTURE_HOUR  SCHEDULED_DEPARTURE_MIN  \\\n",
       "0                    1                         6                        0   \n",
       "1                    1                         7                        0   \n",
       "2                    1                         8                       40   \n",
       "3                    1                        10                       30   \n",
       "4                    1                        13                        0   \n",
       "...                ...                       ...                      ...   \n",
       "1395659             12                        15                       23   \n",
       "1395660             12                        19                       40   \n",
       "1395661              1                        21                       40   \n",
       "1395662             11                        15                       40   \n",
       "1395663             11                        18                       30   \n",
       "\n",
       "         SCHEDULED_ARRIVAL_HOUR  SCHEDULED_ARRIVAL_MIN  MEAN_ROUTE_DELAY  \\\n",
       "0                             8                     50          1.007848   \n",
       "1                             9                     50          1.007848   \n",
       "2                            11                     27          1.007848   \n",
       "3                            13                     14          1.007848   \n",
       "4                            15                     34          1.007848   \n",
       "...                         ...                    ...               ...   \n",
       "1395659                      17                      6         11.770922   \n",
       "1395660                      21                     26         11.770922   \n",
       "1395661                      23                     23         11.000000   \n",
       "1395662                      17                     29         11.000000   \n",
       "1395663                      20                     20         11.000000   \n",
       "\n",
       "         MEAN_TAXI_OUT_ORIGIN  MEAN_TAXI_IN_DESTINATION  \n",
       "0                   16.889625                  8.014261  \n",
       "1                   16.889625                  8.014261  \n",
       "2                   16.889625                  8.014261  \n",
       "3                   16.889625                  8.014261  \n",
       "4                   16.889625                  8.014261  \n",
       "...                       ...                       ...  \n",
       "1395659             18.069613                  8.841586  \n",
       "1395660             18.069613                  8.841586  \n",
       "1395661             18.069613                  8.841586  \n",
       "1395662             18.069613                  8.841586  \n",
       "1395663             18.069613                  8.841586  \n",
       "\n",
       "[1395664 rows x 19 columns]"
      ]
     },
     "execution_count": 105,
     "metadata": {},
     "output_type": "execute_result"
    }
   ],
   "source": [
    "flights_df"
   ]
  },
  {
   "cell_type": "markdown",
   "metadata": {},
   "source": [
    "### Classification model - baseline"
   ]
  },
  {
   "cell_type": "markdown",
   "metadata": {},
   "source": [
    "To define if a flight is delayed on arrival a threshold needs to be set. The US Federal Aviation Administration considers the flight to be delayed on arrival when it is 15 min later than its scheduled time."
   ]
  },
  {
   "cell_type": "code",
   "execution_count": 106,
   "metadata": {},
   "outputs": [],
   "source": [
    "data = flights_df.copy()\n",
    "#data['FLIGHT_DELAY'] = (data['ARRIVAL_DELAY'] > 15).apply(int)\n",
    "data['ARRIVAL_DELAY'] = data['ARRIVAL_DELAY'].apply(lambda x: set_delay_class(x))"
   ]
  },
  {
   "cell_type": "code",
   "execution_count": 107,
   "metadata": {},
   "outputs": [
    {
     "data": {
      "text/plain": [
       "<Axes: xlabel='ARRIVAL_DELAY'>"
      ]
     },
     "execution_count": 107,
     "metadata": {},
     "output_type": "execute_result"
    },
    {
     "data": {
      "image/png": "[encoded data removed]",
      "text/plain": [
       "<Figure size 1000x800 with 1 Axes>"
      ]
     },
     "metadata": {},
     "output_type": "display_data"
    }
   ],
   "source": [
    "# as we have strong class imbalance weighted precision, recall and f1-score will be used\n",
    "data.groupby('ARRIVAL_DELAY')[data.columns[0]].count().plot.bar()"
   ]
  },
  {
   "cell_type": "markdown",
   "metadata": {},
   "source": [
    "### Without DEPARTURE_DELAY feature"
   ]
  },
  {
   "cell_type": "code",
   "execution_count": 90,
   "metadata": {},
   "outputs": [],
   "source": [
    "# separate data into feature matrix X and target variable vector Y\n",
    "X = pd.get_dummies(data.drop('ARRIVAL_DELAY', axis=1))\n",
    "Y = data['ARRIVAL_DELAY']"
   ]
  },
  {
   "cell_type": "code",
   "execution_count": 91,
   "metadata": {},
   "outputs": [
    {
     "name": "stdout",
     "output_type": "stream",
     "text": [
      "Train samples:  976964\n",
      "Test samples:  418700\n"
     ]
    },
    {
     "data": {
      "text/plain": [
       "Counter({0: 788206, 1: 107369, 2: 59902, 3: 21487})"
      ]
     },
     "execution_count": 91,
     "metadata": {},
     "output_type": "execute_result"
    }
   ],
   "source": [
    "# train-test split with test size of 0.3\n",
    "X_train, X_test, Y_train, Y_test = train_test_split(X, Y, test_size=0.3, random_state=42, stratify=Y)\n",
    "print('Train samples: ', X_train.shape[0])\n",
    "print('Test samples: ', X_test.shape[0])\n",
    "\n",
    "Counter(Y_train)"
   ]
  },
  {
   "cell_type": "code",
   "execution_count": 93,
   "metadata": {},
   "outputs": [],
   "source": [
    "# Addressing class imbalance with oversampling the minority classes with SMOTE and undersampling the majority class\n",
    "#undersample = RandomUnderSampler(sampling_strategy='majority')\n",
    "#X_train, Y_train = undersample.fit_resample(X_train, Y_train)\n",
    "#Counter(Y_train)"
   ]
  },
  {
   "cell_type": "code",
   "execution_count": 94,
   "metadata": {},
   "outputs": [
    {
     "name": "stdout",
     "output_type": "stream",
     "text": [
      "Training accuracy = 0.694\n"
     ]
    }
   ],
   "source": [
    "# define the model\n",
    "clf_model = DecisionTreeClassifier(class_weight='balanced')\n",
    "\n",
    "#params = {\n",
    "#    'criterion': ['gini', 'entropy', 'log_loss'],\n",
    "#    'max_depth': [2, 3, 5, 10, 20],\n",
    "#    'min_samples_leaf': [5, 10, 20, 50, 100]\n",
    "#}\n",
    "\n",
    "#clf_cv = GridSearchCV(clf_model, param_grid=params, cv=5)\n",
    "clf_model.fit(X_train, Y_train)\n",
    "\n",
    "scores = cross_val_score(clf_model, X_train, Y_train, cv=5)\n",
    "print('Training accuracy = {:.3f}'.format(scores.mean()))\n"
   ]
  },
  {
   "cell_type": "code",
   "execution_count": 96,
   "metadata": {},
   "outputs": [
    {
     "name": "stdout",
     "output_type": "stream",
     "text": [
      "Cross-entropy loss = 11.001\n",
      "Accuracy = 0.695\n",
      "Precision = 0.703\n",
      "Recall = 0.695\n",
      "F1-score = 0.699\n",
      "ROC-AUC = 0.568\n"
     ]
    },
    {
     "data": {
      "image/png": "[encoded data removed]",
      "text/plain": [
       "<Figure size 1000x800 with 2 Axes>"
      ]
     },
     "metadata": {},
     "output_type": "display_data"
    }
   ],
   "source": [
    "# evaluate metrics\n",
    "y_pred, y_pred_proba = clf_evaluate_metrics(clf_model, X_test, Y_test)"
   ]
  },
  {
   "cell_type": "markdown",
   "metadata": {},
   "source": [
    "### With DEPARTURE_DELAY feature"
   ]
  },
  {
   "cell_type": "markdown",
   "metadata": {},
   "source": [
    "With DELAY_DEPARTURE:\n",
    "R-squared = 0.898\n",
    "Cross-entropy loss = 3.681\n",
    "Accuracy = 0.898\n",
    "Precision = 0.713\n",
    "Recall = 0.719\n",
    "F1-score = 0.716\n",
    "\n",
    "Without DEPARTURE_DELAY:\n",
    "R-squared = 0.758\n",
    "Cross-entropy loss = 8.674\n",
    "Accuracy = 0.759\n",
    "Precision = 0.328\n",
    "Recall = 0.327\n",
    "F1-score = 0.327\n",
    "\n",
    "\n",
    "Multi-class without DELAY_DEPARTURE:\n",
    "Cross-entropy loss = 10.233\n",
    "Accuracy = 0.716\n",
    "Precision = 0.725\n",
    "Recall = 0.716\n",
    "F1-score = 0.720\n",
    "\n",
    "Multi-class with DELAY_DEPARTURE:\n",
    "R-squared = 0.870\n",
    "Cross-entropy loss = 4.667\n",
    "Accuracy = 0.871\n",
    "Precision = 0.871\n",
    "Recall = 0.871\n",
    "F1-score = 0.871\n",
    "\n",
    "\n",
    "Mean airport delay:\n",
    "R-squared = 0.715\n",
    "Cross-entropy loss = 10.241\n",
    "Accuracy = 0.716\n",
    "Precision = 0.725\n",
    "Recall = 0.716\n",
    "F1-score = 0.720\n",
    "ROC-AUC = 0.576"
   ]
  },
  {
   "cell_type": "code",
   "execution_count": 154,
   "metadata": {},
   "outputs": [
    {
     "ename": "KeyboardInterrupt",
     "evalue": "",
     "output_type": "error",
     "traceback": [
      "\u001b[1;31m---------------------------------------------------------------------------\u001b[0m",
      "\u001b[1;31mKeyboardInterrupt\u001b[0m                         Traceback (most recent call last)",
      "\u001b[1;32mc:\\Users\\cezar\\EPFL\\PDM\\FlightDelays_prediction\\PredictionModel_baseline.ipynb Cell 21\u001b[0m line \u001b[0;36m4\n\u001b[0;32m      <a href='vscode-notebook-cell:/c%3A/Users/cezar/EPFL/PDM/FlightDelays_prediction/PredictionModel_baseline.ipynb#X61sZmlsZQ%3D%3D?line=0'>1</a>\u001b[0m n \u001b[39m=\u001b[39m \u001b[39m16\u001b[39m\n\u001b[0;32m      <a href='vscode-notebook-cell:/c%3A/Users/cezar/EPFL/PDM/FlightDelays_prediction/PredictionModel_baseline.ipynb#X61sZmlsZQ%3D%3D?line=2'>3</a>\u001b[0m \u001b[39m# Explaining model using LIME\u001b[39;00m\n\u001b[1;32m----> <a href='vscode-notebook-cell:/c%3A/Users/cezar/EPFL/PDM/FlightDelays_prediction/PredictionModel_baseline.ipynb#X61sZmlsZQ%3D%3D?line=3'>4</a>\u001b[0m explainer \u001b[39m=\u001b[39m lime_tabular\u001b[39m.\u001b[39;49mLimeTabularExplainer(\n\u001b[0;32m      <a href='vscode-notebook-cell:/c%3A/Users/cezar/EPFL/PDM/FlightDelays_prediction/PredictionModel_baseline.ipynb#X61sZmlsZQ%3D%3D?line=4'>5</a>\u001b[0m     training_data\u001b[39m=\u001b[39;49mnp\u001b[39m.\u001b[39;49marray(X_train),\n\u001b[0;32m      <a href='vscode-notebook-cell:/c%3A/Users/cezar/EPFL/PDM/FlightDelays_prediction/PredictionModel_baseline.ipynb#X61sZmlsZQ%3D%3D?line=5'>6</a>\u001b[0m     feature_names\u001b[39m=\u001b[39;49mX\u001b[39m.\u001b[39;49mcolumns,\n\u001b[0;32m      <a href='vscode-notebook-cell:/c%3A/Users/cezar/EPFL/PDM/FlightDelays_prediction/PredictionModel_baseline.ipynb#X61sZmlsZQ%3D%3D?line=6'>7</a>\u001b[0m     class_names\u001b[39m=\u001b[39;49m[\u001b[39m'\u001b[39;49m\u001b[39mNo delay\u001b[39;49m\u001b[39m'\u001b[39;49m, \u001b[39m'\u001b[39;49m\u001b[39mDelay\u001b[39;49m\u001b[39m'\u001b[39;49m, \u001b[39m'\u001b[39;49m\u001b[39mImportant delay\u001b[39;49m\u001b[39m'\u001b[39;49m, \u001b[39m'\u001b[39;49m\u001b[39mBig delay\u001b[39;49m\u001b[39m'\u001b[39;49m],\n\u001b[0;32m      <a href='vscode-notebook-cell:/c%3A/Users/cezar/EPFL/PDM/FlightDelays_prediction/PredictionModel_baseline.ipynb#X61sZmlsZQ%3D%3D?line=7'>8</a>\u001b[0m     mode\u001b[39m=\u001b[39;49m\u001b[39m'\u001b[39;49m\u001b[39mclassification\u001b[39;49m\u001b[39m'\u001b[39;49m\n\u001b[0;32m      <a href='vscode-notebook-cell:/c%3A/Users/cezar/EPFL/PDM/FlightDelays_prediction/PredictionModel_baseline.ipynb#X61sZmlsZQ%3D%3D?line=8'>9</a>\u001b[0m )\n\u001b[0;32m     <a href='vscode-notebook-cell:/c%3A/Users/cezar/EPFL/PDM/FlightDelays_prediction/PredictionModel_baseline.ipynb#X61sZmlsZQ%3D%3D?line=9'>10</a>\u001b[0m \u001b[39mif\u001b[39;00m clf_model\u001b[39m.\u001b[39mpredict(np\u001b[39m.\u001b[39marray(X_test\u001b[39m.\u001b[39miloc[n])\u001b[39m.\u001b[39mreshape(\u001b[39m1\u001b[39m,\u001b[39m-\u001b[39m\u001b[39m1\u001b[39m)) \u001b[39m==\u001b[39m Y_test\u001b[39m.\u001b[39miloc[n]:\n\u001b[0;32m     <a href='vscode-notebook-cell:/c%3A/Users/cezar/EPFL/PDM/FlightDelays_prediction/PredictionModel_baseline.ipynb#X61sZmlsZQ%3D%3D?line=10'>11</a>\u001b[0m     \u001b[39mprint\u001b[39m(\u001b[39m'\u001b[39m\u001b[39mCorrect prediction!\u001b[39m\u001b[39m'\u001b[39m)\n",
      "File \u001b[1;32mc:\\Users\\cezar\\miniconda3\\envs\\sp80\\lib\\site-packages\\lime\\lime_tabular.py:215\u001b[0m, in \u001b[0;36mLimeTabularExplainer.__init__\u001b[1;34m(self, training_data, mode, training_labels, feature_names, categorical_features, categorical_names, kernel_width, kernel, verbose, class_names, feature_selection, discretize_continuous, discretizer, sample_around_instance, random_state, training_data_stats)\u001b[0m\n\u001b[0;32m    209\u001b[0m     discretizer \u001b[39m=\u001b[39m StatsDiscretizer(training_data, \u001b[39mself\u001b[39m\u001b[39m.\u001b[39mcategorical_features,\n\u001b[0;32m    210\u001b[0m                                    \u001b[39mself\u001b[39m\u001b[39m.\u001b[39mfeature_names, labels\u001b[39m=\u001b[39mtraining_labels,\n\u001b[0;32m    211\u001b[0m                                    data_stats\u001b[39m=\u001b[39m\u001b[39mself\u001b[39m\u001b[39m.\u001b[39mtraining_data_stats,\n\u001b[0;32m    212\u001b[0m                                    random_state\u001b[39m=\u001b[39m\u001b[39mself\u001b[39m\u001b[39m.\u001b[39mrandom_state)\n\u001b[0;32m    214\u001b[0m \u001b[39mif\u001b[39;00m discretizer \u001b[39m==\u001b[39m \u001b[39m'\u001b[39m\u001b[39mquartile\u001b[39m\u001b[39m'\u001b[39m:\n\u001b[1;32m--> 215\u001b[0m     \u001b[39mself\u001b[39m\u001b[39m.\u001b[39mdiscretizer \u001b[39m=\u001b[39m QuartileDiscretizer(\n\u001b[0;32m    216\u001b[0m             training_data, \u001b[39mself\u001b[39;49m\u001b[39m.\u001b[39;49mcategorical_features,\n\u001b[0;32m    217\u001b[0m             \u001b[39mself\u001b[39;49m\u001b[39m.\u001b[39;49mfeature_names, labels\u001b[39m=\u001b[39;49mtraining_labels,\n\u001b[0;32m    218\u001b[0m             random_state\u001b[39m=\u001b[39;49m\u001b[39mself\u001b[39;49m\u001b[39m.\u001b[39;49mrandom_state)\n\u001b[0;32m    219\u001b[0m \u001b[39melif\u001b[39;00m discretizer \u001b[39m==\u001b[39m \u001b[39m'\u001b[39m\u001b[39mdecile\u001b[39m\u001b[39m'\u001b[39m:\n\u001b[0;32m    220\u001b[0m     \u001b[39mself\u001b[39m\u001b[39m.\u001b[39mdiscretizer \u001b[39m=\u001b[39m DecileDiscretizer(\n\u001b[0;32m    221\u001b[0m             training_data, \u001b[39mself\u001b[39m\u001b[39m.\u001b[39mcategorical_features,\n\u001b[0;32m    222\u001b[0m             \u001b[39mself\u001b[39m\u001b[39m.\u001b[39mfeature_names, labels\u001b[39m=\u001b[39mtraining_labels,\n\u001b[0;32m    223\u001b[0m             random_state\u001b[39m=\u001b[39m\u001b[39mself\u001b[39m\u001b[39m.\u001b[39mrandom_state)\n",
      "File \u001b[1;32mc:\\Users\\cezar\\miniconda3\\envs\\sp80\\lib\\site-packages\\lime\\discretize.py:178\u001b[0m, in \u001b[0;36mQuartileDiscretizer.__init__\u001b[1;34m(self, data, categorical_features, feature_names, labels, random_state)\u001b[0m\n\u001b[0;32m    176\u001b[0m \u001b[39mdef\u001b[39;00m \u001b[39m__init__\u001b[39m(\u001b[39mself\u001b[39m, data, categorical_features, feature_names, labels\u001b[39m=\u001b[39m\u001b[39mNone\u001b[39;00m, random_state\u001b[39m=\u001b[39m\u001b[39mNone\u001b[39;00m):\n\u001b[1;32m--> 178\u001b[0m     BaseDiscretizer\u001b[39m.\u001b[39;49m\u001b[39m__init__\u001b[39;49m(\u001b[39mself\u001b[39;49m, data, categorical_features,\n\u001b[0;32m    179\u001b[0m                              feature_names, labels\u001b[39m=\u001b[39;49mlabels,\n\u001b[0;32m    180\u001b[0m                              random_state\u001b[39m=\u001b[39;49mrandom_state)\n",
      "File \u001b[1;32mc:\\Users\\cezar\\miniconda3\\envs\\sp80\\lib\\site-packages\\lime\\discretize.py:51\u001b[0m, in \u001b[0;36mBaseDiscretizer.__init__\u001b[1;34m(self, data, categorical_features, feature_names, labels, random_state, data_stats)\u001b[0m\n\u001b[0;32m     48\u001b[0m \u001b[39mself\u001b[39m\u001b[39m.\u001b[39mrandom_state \u001b[39m=\u001b[39m check_random_state(random_state)\n\u001b[0;32m     50\u001b[0m \u001b[39m# To override when implementing a custom binning\u001b[39;00m\n\u001b[1;32m---> 51\u001b[0m bins \u001b[39m=\u001b[39m \u001b[39mself\u001b[39;49m\u001b[39m.\u001b[39;49mbins(data, labels)\n\u001b[0;32m     52\u001b[0m bins \u001b[39m=\u001b[39m [np\u001b[39m.\u001b[39munique(x) \u001b[39mfor\u001b[39;00m x \u001b[39min\u001b[39;00m bins]\n\u001b[0;32m     54\u001b[0m \u001b[39m# Read the stats from data_stats if exists\u001b[39;00m\n",
      "File \u001b[1;32mc:\\Users\\cezar\\miniconda3\\envs\\sp80\\lib\\site-packages\\lime\\discretize.py:185\u001b[0m, in \u001b[0;36mQuartileDiscretizer.bins\u001b[1;34m(self, data, labels)\u001b[0m\n\u001b[0;32m    183\u001b[0m bins \u001b[39m=\u001b[39m []\n\u001b[0;32m    184\u001b[0m \u001b[39mfor\u001b[39;00m feature \u001b[39min\u001b[39;00m \u001b[39mself\u001b[39m\u001b[39m.\u001b[39mto_discretize:\n\u001b[1;32m--> 185\u001b[0m     qts \u001b[39m=\u001b[39m np\u001b[39m.\u001b[39marray(np\u001b[39m.\u001b[39;49mpercentile(data[:, feature], [\u001b[39m25\u001b[39;49m, \u001b[39m50\u001b[39;49m, \u001b[39m75\u001b[39;49m]))\n\u001b[0;32m    186\u001b[0m     bins\u001b[39m.\u001b[39mappend(qts)\n\u001b[0;32m    187\u001b[0m \u001b[39mreturn\u001b[39;00m bins\n",
      "File \u001b[1;32m<__array_function__ internals>:200\u001b[0m, in \u001b[0;36mpercentile\u001b[1;34m(*args, **kwargs)\u001b[0m\n",
      "File \u001b[1;32mc:\\Users\\cezar\\miniconda3\\envs\\sp80\\lib\\site-packages\\numpy\\lib\\function_base.py:4205\u001b[0m, in \u001b[0;36mpercentile\u001b[1;34m(a, q, axis, out, overwrite_input, method, keepdims, interpolation)\u001b[0m\n\u001b[0;32m   4203\u001b[0m \u001b[39mif\u001b[39;00m \u001b[39mnot\u001b[39;00m _quantile_is_valid(q):\n\u001b[0;32m   4204\u001b[0m     \u001b[39mraise\u001b[39;00m \u001b[39mValueError\u001b[39;00m(\u001b[39m\"\u001b[39m\u001b[39mPercentiles must be in the range [0, 100]\u001b[39m\u001b[39m\"\u001b[39m)\n\u001b[1;32m-> 4205\u001b[0m \u001b[39mreturn\u001b[39;00m _quantile_unchecked(\n\u001b[0;32m   4206\u001b[0m     a, q, axis, out, overwrite_input, method, keepdims)\n",
      "File \u001b[1;32mc:\\Users\\cezar\\miniconda3\\envs\\sp80\\lib\\site-packages\\numpy\\lib\\function_base.py:4473\u001b[0m, in \u001b[0;36m_quantile_unchecked\u001b[1;34m(a, q, axis, out, overwrite_input, method, keepdims)\u001b[0m\n\u001b[0;32m   4465\u001b[0m \u001b[39mdef\u001b[39;00m \u001b[39m_quantile_unchecked\u001b[39m(a,\n\u001b[0;32m   4466\u001b[0m                         q,\n\u001b[0;32m   4467\u001b[0m                         axis\u001b[39m=\u001b[39m\u001b[39mNone\u001b[39;00m,\n\u001b[1;32m   (...)\u001b[0m\n\u001b[0;32m   4470\u001b[0m                         method\u001b[39m=\u001b[39m\u001b[39m\"\u001b[39m\u001b[39mlinear\u001b[39m\u001b[39m\"\u001b[39m,\n\u001b[0;32m   4471\u001b[0m                         keepdims\u001b[39m=\u001b[39m\u001b[39mFalse\u001b[39;00m):\n\u001b[0;32m   4472\u001b[0m \u001b[39m    \u001b[39m\u001b[39m\"\"\"Assumes that q is in [0, 1], and is an ndarray\"\"\"\u001b[39;00m\n\u001b[1;32m-> 4473\u001b[0m     \u001b[39mreturn\u001b[39;00m _ureduce(a,\n\u001b[0;32m   4474\u001b[0m                     func\u001b[39m=\u001b[39;49m_quantile_ureduce_func,\n\u001b[0;32m   4475\u001b[0m                     q\u001b[39m=\u001b[39;49mq,\n\u001b[0;32m   4476\u001b[0m                     keepdims\u001b[39m=\u001b[39;49mkeepdims,\n\u001b[0;32m   4477\u001b[0m                     axis\u001b[39m=\u001b[39;49maxis,\n\u001b[0;32m   4478\u001b[0m                     out\u001b[39m=\u001b[39;49mout,\n\u001b[0;32m   4479\u001b[0m                     overwrite_input\u001b[39m=\u001b[39;49moverwrite_input,\n\u001b[0;32m   4480\u001b[0m                     method\u001b[39m=\u001b[39;49mmethod)\n",
      "\u001b[1;31mKeyboardInterrupt\u001b[0m: "
     ]
    }
   ],
   "source": [
    "n = 16\n",
    "\n",
    "# Explaining model using LIME\n",
    "explainer = lime_tabular.LimeTabularExplainer(\n",
    "    training_data=np.array(X_train),\n",
    "    feature_names=X.columns,\n",
    "    class_names=['No delay', 'Delay', 'Important delay', 'Big delay'],\n",
    "    mode='classification'\n",
    ")\n",
    "if clf_model.predict(np.array(X_test.iloc[n]).reshape(1,-1)) == Y_test.iloc[n]:\n",
    "    print('Correct prediction!')\n",
    "exp = explainer.explain_instance(\n",
    "    data_row=X_test.values[n], \n",
    "    predict_fn=clf_model.predict_proba\n",
    ")\n",
    "exp.show_in_notebook(show_table=True)"
   ]
  },
  {
   "cell_type": "markdown",
   "metadata": {},
   "source": [
    "### Regression baseline\n"
   ]
  },
  {
   "cell_type": "code",
   "execution_count": 13,
   "metadata": {},
   "outputs": [
    {
     "name": "stderr",
     "output_type": "stream",
     "text": [
      "C:\\Users\\cezar\\AppData\\Local\\Temp\\ipykernel_34604\\1860836621.py:3: SettingWithCopyWarning: \n",
      "A value is trying to be set on a copy of a slice from a DataFrame.\n",
      "Try using .loc[row_indexer,col_indexer] = value instead\n",
      "\n",
      "See the caveats in the documentation: https://pandas.pydata.org/pandas-docs/stable/user_guide/indexing.html#returning-a-view-versus-a-copy\n",
      "  data['ARRIVAL_DELAY'] = data['ARRIVAL_DELAY'].clip(lower=0)\n"
     ]
    }
   ],
   "source": [
    "# filter the outlier delays exceeding 3h\n",
    "data = flights_df[flights_df['ARRIVAL_DELAY'] < 180]\n",
    "data['ARRIVAL_DELAY'] = data['ARRIVAL_DELAY'].clip(lower=0)"
   ]
  },
  {
   "cell_type": "code",
   "execution_count": 20,
   "metadata": {},
   "outputs": [
    {
     "name": "stdout",
     "output_type": "stream",
     "text": [
      "Train samples:  3966302\n",
      "Test samples:  1699845\n"
     ]
    }
   ],
   "source": [
    "# separate data into feature matrix X and target variable vector Y\n",
    "X = pd.get_dummies(data.drop('ARRIVAL_DELAY', axis=1))\n",
    "Y = data['ARRIVAL_DELAY'] \n",
    "\n",
    "# train-test split with test size of 0.3\n",
    "X_train, X_test, Y_train, Y_test = train_test_split(X, Y, test_size=0.3, random_state=42)\n",
    "print('Train samples: ', X_train.shape[0])\n",
    "print('Test samples: ', X_test.shape[0])\n",
    "\n",
    "# standardizing training data\n",
    "scaler = StandardScaler().fit(X_train)\n",
    "X_train = scaler.transform(X_train)\n",
    "X_test = scaler.transform(X_test)\n",
    "\n",
    "# polynomial feature extension of degree d\n",
    "poly_features = PolynomialFeatures(degree=2, include_bias=True).fit(X_train)\n",
    "X_train = poly_features.transform(X_train)\n",
    "X_test = poly_features.transform(X_test)"
   ]
  },
  {
   "cell_type": "code",
   "execution_count": 16,
   "metadata": {},
   "outputs": [
    {
     "name": "stdout",
     "output_type": "stream",
     "text": [
      "Training R-squared = 0.026\n",
      "Chosen L1 ratio: 1.0\n",
      "Chosen alpha: 0.003062308101952252\n",
      "Coefficients: [ 0.00000000e+00 -4.00455196e-01  4.08585196e-01  6.68999380e-01\n",
      "  2.72847131e-01 -3.72865829e-01 -1.52964802e-01 -9.51053883e-01\n",
      " -6.76171236e-03 -0.00000000e+00  2.35454456e+00  1.26291568e-01\n",
      "  1.03531919e+00  2.23992760e-03 -5.18948671e-01 -1.25059333e-01\n",
      "  5.27079645e-01  4.19725617e-01 -1.09371501e+00  4.75989632e-01\n",
      " -4.46821645e-01  4.75071391e-01  2.60459895e-01 -8.89214984e-02\n",
      "  9.19928480e-01 -2.73734848e-01  3.35915914e-01 -0.00000000e+00]\n",
      "RMSE = 23.601\n",
      "MAE = 13.736\n"
     ]
    }
   ],
   "source": [
    "# model \n",
    "# ELASTICNET\n",
    "l1_ratio_array = [0.2, 0.3, 0.4, 0.5, 0.7, 0.8, 0.9, 0.95, 0.99, 1]\n",
    "#alpha_array = np.linspace(0.1, 2, 20)\n",
    "\n",
    "elasticnet_model = ElasticNetCV(cv=5, l1_ratio = l1_ratio_array)\n",
    "elasticnet_model.fit(X_train, Y_train)\n",
    "\n",
    "score = elasticnet_model.score(X_train, Y_train)\n",
    "print('Training R-squared = {:.3f}'.format(score))\n",
    "\n",
    "print('Chosen L1 ratio:', elasticnet_model.l1_ratio_)\n",
    "print('Chosen alpha:', elasticnet_model.alpha_)\n",
    "print('Coefficients:', elasticnet_model.coef_)\n",
    "\n",
    "y_pred = elasticnet_model.predict(X_test)\n",
    "rmse = math.sqrt(mean_squared_error(Y_test, y_pred))\n",
    "print('RMSE = {:.3f}'.format(rmse))\n",
    "mae = mean_absolute_error(Y_test, y_pred)\n",
    "print('MAE = {:.3f}'.format(mae))"
   ]
  },
  {
   "cell_type": "code",
   "execution_count": null,
   "metadata": {},
   "outputs": [],
   "source": []
  }
 ],
 "metadata": {
  "kernelspec": {
   "display_name": "sp80",
   "language": "python",
   "name": "python3"
  },
  "language_info": {
   "codemirror_mode": {
    "name": "ipython",
    "version": 3
   },
   "file_extension": ".py",
   "mimetype": "text/x-python",
   "name": "python",
   "nbconvert_exporter": "python",
   "pygments_lexer": "ipython3",
   "version": "3.9.12"
  }
 },
 "nbformat": 4,
 "nbformat_minor": 2
}
